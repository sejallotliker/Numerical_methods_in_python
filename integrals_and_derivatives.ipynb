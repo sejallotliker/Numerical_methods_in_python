{
  "nbformat": 4,
  "nbformat_minor": 0,
  "metadata": {
    "colab": {
      "provenance": [],
      "authorship_tag": "ABX9TyNfd4fZtW5i+2nmIjELMAj7",
      "include_colab_link": true
    },
    "kernelspec": {
      "name": "python3",
      "display_name": "Python 3"
    },
    "language_info": {
      "name": "python"
    }
  },
  "cells": [
    {
      "cell_type": "markdown",
      "metadata": {
        "id": "view-in-github",
        "colab_type": "text"
      },
      "source": [
        "<a href=\"https://colab.research.google.com/github/sejallotliker/Numerical_methods_in_python/blob/main/integrals_and_derivatives.ipynb\" target=\"_parent\"><img src=\"https://colab.research.google.com/assets/colab-badge.svg\" alt=\"Open In Colab\"/></a>"
      ]
    },
    {
      "cell_type": "markdown",
      "source": [
        "###In this chapter we are going to deal with integrals and derivatives using python"
      ],
      "metadata": {
        "id": "-dYwR_DowP1Y"
      }
    },
    {
      "cell_type": "markdown",
      "source": [
        "###Integrals using numerical methods\n",
        "\n",
        "1. Trapezoidal method\n",
        "\n",
        "2. Simpson's 1/3rd rule\n",
        "\n",
        "3. Gaussian Quadrature"
      ],
      "metadata": {
        "id": "fxV7abSwwXev"
      }
    },
    {
      "cell_type": "code",
      "execution_count": 2,
      "metadata": {
        "colab": {
          "base_uri": "https://localhost:8080/"
        },
        "id": "AbhbmADJwEO9",
        "outputId": "676dc76a-5251-4a77-c5d2-2901b5a08c1c"
      },
      "outputs": [
        {
          "output_type": "stream",
          "name": "stdout",
          "text": [
            "4.50656\n"
          ]
        }
      ],
      "source": [
        "#Using Trapezoidal Rule:\n",
        "def f(x):\n",
        "  return x**4-2*x+1\n",
        "\n",
        "N = 10\n",
        "a = 0.0\n",
        "b = 2.0\n",
        "h = (b-a)/N\n",
        "\n",
        "s = 0.5*(f(a)+f(b))\n",
        "for k in range(1, N):\n",
        "  s+=f(a+k*h)\n",
        "\n",
        "print(h*s)"
      ]
    },
    {
      "cell_type": "code",
      "source": [],
      "metadata": {
        "id": "y8SaD8SJx4L4"
      },
      "execution_count": null,
      "outputs": []
    }
  ]
}