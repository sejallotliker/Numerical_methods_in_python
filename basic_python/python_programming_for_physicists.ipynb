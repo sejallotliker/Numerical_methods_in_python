{
  "nbformat": 4,
  "nbformat_minor": 0,
  "metadata": {
    "colab": {
      "provenance": [],
      "authorship_tag": "ABX9TyPQYx0EutC+6bfkm9hRzZId",
      "include_colab_link": true
    },
    "kernelspec": {
      "name": "python3",
      "display_name": "Python 3"
    },
    "language_info": {
      "name": "python"
    }
  },
  "cells": [
    {
      "cell_type": "markdown",
      "metadata": {
        "id": "view-in-github",
        "colab_type": "text"
      },
      "source": [
        "<a href=\"https://colab.research.google.com/github/sejallotliker/Numerical_methods_in_python/blob/main/basic_python/python_programming_for_physicists.ipynb\" target=\"_parent\"><img src=\"https://colab.research.google.com/assets/colab-badge.svg\" alt=\"Open In Colab\"/></a>"
      ]
    },
    {
      "cell_type": "markdown",
      "source": [
        "### Practice problems from Computational Physics by Mark Newman\n",
        "\n",
        "##Ch-1. Introduction\n",
        "\n",
        "\n",
        "ENIAC --> 1st computer in human history\n",
        "\n"
      ],
      "metadata": {
        "id": "jtlWdeYy0BzF"
      }
    },
    {
      "cell_type": "code",
      "execution_count": null,
      "metadata": {
        "colab": {
          "base_uri": "https://localhost:8080/"
        },
        "id": "R4MnciaCpcLM",
        "outputId": "8432241d-8e15-4399-e20e-a21c711567a9"
      },
      "outputs": [
        {
          "output_type": "stream",
          "name": "stdout",
          "text": [
            "Series for m =  1\n",
            "  121.5436037678517 nm\n",
            "  102.55241567912488 nm\n",
            "  97.23488301428137 nm\n",
            "  94.95594044363415 nm\n",
            "  93.76220862091418 nm\n",
            "Series for m =  2\n",
            "  656.3354603463993 nm\n",
            "  486.1744150714068 nm\n",
            "  434.084299170899 nm\n",
            "  410.2096627164995 nm\n",
            "  397.04243897498225 nm\n",
            "Series for m =  3\n",
            "  1875.2441724182836 nm\n",
            "  1281.9051959890612 nm\n",
            "  1093.8924339106654 nm\n",
            "  1005.013673655424 nm\n",
            "  954.6697605038536 nm\n",
            "Series for m =  4\n",
            "  4051.453458928391 nm\n",
            "  2625.341841385597 nm\n",
            "  2165.68603077263 nm\n",
            "  1944.6976602856273 nm\n",
            "  1817.5443517284903 nm\n",
            "Series for m =  5\n",
            "  7458.357503936354 nm\n",
            "  4652.841081738073 nm\n",
            "  3739.8031928569753 nm\n",
            "  3296.3276468290137 nm\n",
            "  3038.5900941962927 nm\n"
          ]
        }
      ],
      "source": [
        "#Python is a powerful programming language. It has many features which makes physics calculations easier and faster.\n",
        "\n",
        "#Atomic phy problem\n",
        "\n",
        "\n",
        "# 1/( λ) = R (1/m^2 - 1/n^2)\n",
        "#Where R : Rydberg constant\n",
        "\n",
        "# m = 1 --> Lyman\n",
        "# m = 2 --> Balmer\n",
        "# m = 3 --> Paschen\n",
        "# m = 4 --> Bracket\n",
        "# m = 5 --> P-fund\n",
        "\n",
        "#Python program that prints out the wavelengths of the first five lines\n",
        "R = 1.097*10**-2\n",
        "for m in [1, 2, 3, 4, 5]:\n",
        "  print(\"Series for m = \", m )\n",
        "  for k in [1, 2, 3, 4, 5]:\n",
        "    n= m+k\n",
        "    inv_lambda = R*((1/m**2) - (1/n**2))\n",
        "    print(\" \", 1/inv_lambda, \"nm\")\n"
      ]
    },
    {
      "cell_type": "markdown",
      "source": [
        "#Ch-2: Python"
      ],
      "metadata": {
        "id": "x58XGYYv4lNK"
      }
    },
    {
      "cell_type": "code",
      "source": [
        "x = 1\n",
        "print(x)"
      ],
      "metadata": {
        "colab": {
          "base_uri": "https://localhost:8080/"
        },
        "id": "WnKa2ScW4VAD",
        "outputId": "76b0f6c5-d5f1-43f3-d45a-91711798fb51"
      },
      "execution_count": null,
      "outputs": [
        {
          "output_type": "stream",
          "name": "stdout",
          "text": [
            "1\n"
          ]
        }
      ]
    },
    {
      "cell_type": "code",
      "source": [
        "#Variable types ion python\n",
        "# 1. Integer\n",
        "x = 1\n",
        "y = 3\n",
        "print(x, y)\n",
        "\n",
        "# 2. Float\n",
        "\n",
        "x = 1.5\n",
        "y = 2.5\n",
        "\n",
        "print (x+y)\n",
        "\n",
        "# 3. Complex\n",
        "\n",
        "x = 1+ 2j\n",
        "y = 5 + 7j\n",
        "\n",
        "print(x*y)\n",
        "\n",
        "# 4. String\n",
        "a = \" My name is Sejal\"\n",
        "print(a)"
      ],
      "metadata": {
        "colab": {
          "base_uri": "https://localhost:8080/"
        },
        "id": "R2pZR97m4rm7",
        "outputId": "023086d2-4c75-4043-e494-b0570b5a5925"
      },
      "execution_count": null,
      "outputs": [
        {
          "output_type": "stream",
          "name": "stdout",
          "text": [
            "1 3\n",
            "4.0\n",
            "(-9+17j)\n",
            " My name is Sejal\n"
          ]
        }
      ]
    },
    {
      "cell_type": "code",
      "source": [
        "#To take input from the user\n",
        "x = input(\"Enter the value of x : \")"
      ],
      "metadata": {
        "colab": {
          "base_uri": "https://localhost:8080/"
        },
        "id": "teT353RU6E0z",
        "outputId": "7408e64b-c6d8-4d95-8fa7-e5d8bdce7bb3"
      },
      "execution_count": null,
      "outputs": [
        {
          "name": "stdout",
          "output_type": "stream",
          "text": [
            "Enter the value of x : 7\n"
          ]
        }
      ]
    },
    {
      "cell_type": "code",
      "source": [
        "#Arithmetic\n",
        "\n",
        "# x + y --> Addition\n",
        "# x - y --> Subtraction\n",
        "# x * y --> Multiplication\n",
        "# x/y --> Division\n",
        "# x**y --> x raising to the power of y\n"
      ],
      "metadata": {
        "id": "SnkmkBjx6YDL"
      },
      "execution_count": null,
      "outputs": []
    },
    {
      "cell_type": "code",
      "source": [
        "#Integer division and modulo operation\n",
        "# x// y --> Gives the Quotient (integer part)\n",
        "print(14//3)\n",
        "print(-14//3)\n",
        "\n",
        "# x % y --> Modulo (Remainder part)\n",
        "y = 14%3\n",
        "print(y)"
      ],
      "metadata": {
        "colab": {
          "base_uri": "https://localhost:8080/"
        },
        "id": "3CNF_uo881yr",
        "outputId": "50aba7ef-5ffc-46ed-c7f5-9b66c45ea60c"
      },
      "execution_count": null,
      "outputs": [
        {
          "output_type": "stream",
          "name": "stdout",
          "text": [
            "4\n",
            "-5\n",
            "2\n"
          ]
        }
      ]
    },
    {
      "cell_type": "code",
      "source": [
        "#Python modifiers\n",
        "## x += 1\n",
        "## x -= 4\n",
        "## x*= 2.6\n",
        "## x/= 5*y\n",
        "## x//=3.4\n"
      ],
      "metadata": {
        "id": "RWjU1RhV9iNy"
      },
      "execution_count": null,
      "outputs": []
    },
    {
      "cell_type": "code",
      "source": [
        "#A ball dropped from a tower\n",
        "#To print the height above the ground at time tafter it is dropped\n",
        "h = float(input(\"Enter the height of the tower in meters: \"))\n",
        "t = float(input(\"Enter the time interval in sec: \"))\n",
        "g = 9.8\n",
        "s = (1/2)*g*t**2\n",
        "height = h-s\n",
        "print(\"Height of the tower: \", height)"
      ],
      "metadata": {
        "colab": {
          "base_uri": "https://localhost:8080/"
        },
        "id": "XgU8mGSB0_Cz",
        "outputId": "7f470043-33ab-441f-cb57-2c78acddc2a7"
      },
      "execution_count": null,
      "outputs": [
        {
          "output_type": "stream",
          "name": "stdout",
          "text": [
            "Enter the height of the tower in meters: 150\n",
            "Enter the time interval in sec: 2\n",
            "Height of the tower:  130.4\n"
          ]
        }
      ]
    },
    {
      "cell_type": "code",
      "source": [
        "#Exercise 2.2: Altitude of a satellite\n",
        "import math\n",
        "T = float(input(\"Enter the time in sec: \" ))\n",
        "def height(T):\n",
        "  G = 6.67* 10**(-11)\n",
        "  M = 5.97*10**(24)\n",
        "  R = 6371*10**2\n",
        "  pi = math.pi\n",
        "  h = ((G*M*T**2)/(4*pi**2))**(1/3) - R\n",
        "  return h\n",
        "height_1 = height(T)\n",
        "print(height_1)"
      ],
      "metadata": {
        "colab": {
          "base_uri": "https://localhost:8080/"
        },
        "id": "9lwxEB761uXV",
        "outputId": "ea305bdb-2a09-454a-ec7e-8e4bbec0bd83"
      },
      "execution_count": null,
      "outputs": [
        {
          "output_type": "stream",
          "name": "stdout",
          "text": [
            "Enter the time in sec: 161\n",
            "2336.4567673050333\n"
          ]
        }
      ]
    },
    {
      "cell_type": "code",
      "source": [
        "#Math library\n",
        "from math import log\n",
        "x = log(2.5)\n",
        "x"
      ],
      "metadata": {
        "colab": {
          "base_uri": "https://localhost:8080/"
        },
        "id": "ygA9_Fo23C4C",
        "outputId": "1f03facb-1687-4571-db66-e369ad19aef5"
      },
      "execution_count": null,
      "outputs": [
        {
          "output_type": "execute_result",
          "data": {
            "text/plain": [
              "0.9162907318741551"
            ]
          },
          "metadata": {},
          "execution_count": 36
        }
      ]
    },
    {
      "cell_type": "code",
      "source": [
        "from math import *\n",
        "#(* means everything)"
      ],
      "metadata": {
        "id": "g5ZvtnMw4Dhr"
      },
      "execution_count": null,
      "outputs": []
    },
    {
      "cell_type": "code",
      "source": [
        "#Converting Polar coordinates\n",
        "''' x = rcos(theta)\n",
        "    y = rsin(theta) '''\n",
        "\n",
        "from math import sin, cos, pi\n",
        "r = float(input(\"Enter r: \"))\n",
        "\n",
        "d = float(input(\"Enter the value of theta in degrees: \"))\n",
        "\n",
        "theta = d*pi/180\n",
        "\n",
        "x = r*cos(theta)\n",
        "y = r*sin(theta)\n",
        "\n",
        "print(\"x = \", x, \"y = \", y)\n"
      ],
      "metadata": {
        "colab": {
          "base_uri": "https://localhost:8080/"
        },
        "id": "62-tkTVs4jG7",
        "outputId": "ad81d28a-28d0-434b-9520-2545ee2eee14"
      },
      "execution_count": null,
      "outputs": [
        {
          "output_type": "stream",
          "name": "stdout",
          "text": [
            "Enter r: 10\n",
            "Enter the value of theta in degrees: 20\n",
            "x =  9.396926207859085 y =  3.420201433256687\n"
          ]
        }
      ]
    },
    {
      "cell_type": "code",
      "source": [
        "#Inverse operation\n",
        "\n",
        "x = float(input(\"Enter the value of x: \"))\n",
        "y = float(input(\"Enter the value of y: \"))\n",
        "\n",
        "d = (y/x)\n",
        "r = math.sqrt(x**2+y**2)\n",
        "theta = math.atan(d)\n",
        "theta_d = theta*(180/math.pi)\n",
        "\n",
        "print(\"r = \", r, \"theta= \", theta_d)"
      ],
      "metadata": {
        "colab": {
          "base_uri": "https://localhost:8080/"
        },
        "id": "rplqIo3Q5UsE",
        "outputId": "84622423-bfc6-474b-eace-898a78016421"
      },
      "execution_count": null,
      "outputs": [
        {
          "output_type": "stream",
          "name": "stdout",
          "text": [
            "Enter the value of x: 10\n",
            "Enter the value of y: 10000000000000000\n",
            "r =  1e+16 theta=  89.99999999999994\n"
          ]
        }
      ]
    },
    {
      "cell_type": "code",
      "source": [
        "#A spaceship travels from Earth in a straight line at a relativistic speed v to another planet x light years away\n",
        "\n",
        "x = float(input(\"Enter the value of x : \"))\n",
        "v = float(input(\"Enter the value of v in the fraction of c : \"))\n",
        "\n",
        "#To print the time in years that the spaceship takes to reach its destination\n",
        "t = (x/v)\n",
        "print(\"Time perceived by a passenger on board is \", t)\n",
        "t_dialated = (t+(x*v))/math.sqrt(1-(v**2))\n",
        "print(\"Time perceived by an observer on the Earth is \", t_dialated)"
      ],
      "metadata": {
        "colab": {
          "base_uri": "https://localhost:8080/"
        },
        "id": "Ehb9THNX6GCs",
        "outputId": "c2a69a18-720c-48d6-8c2d-44c230150ce7"
      },
      "execution_count": null,
      "outputs": [
        {
          "output_type": "stream",
          "name": "stdout",
          "text": [
            "Enter the value of x : 10\n",
            "Enter the value of v in the fraction of c : 0.99\n",
            "Time perceived by a passenger on board is  10.1010101010101\n",
            "Time perceived by an observer on the Earth is  141.7834014178793\n"
          ]
        }
      ]
    },
    {
      "cell_type": "code",
      "source": [
        "#Quantum step potential\n",
        "m = 9.11*10**(-31)\n",
        "E = 10\n",
        "V = 9\n",
        "h_bar = (6.626*10**(-34))/(2*3.14)\n",
        "\n",
        "k1 = math.sqrt((2*m*E))/h_bar\n",
        "k2 = math.sqrt(2*m*(E-V))/h_bar\n",
        "\n",
        "T = (4*k1*k2)/(k1+k2)**2\n",
        "\n",
        "R = ((k1-k2)/(k1+k2))\n",
        "\n",
        "print(\"Transmission coefficient: \", T)\n",
        "print(\"Reflection coefficient: \", R)"
      ],
      "metadata": {
        "colab": {
          "base_uri": "https://localhost:8080/"
        },
        "id": "Hdp5z_uhA5oK",
        "outputId": "c350740c-12ed-4063-933c-035c3d51767c"
      },
      "execution_count": null,
      "outputs": [
        {
          "output_type": "stream",
          "name": "stdout",
          "text": [
            "Transmission coefficient:  0.7301261363877615\n",
            "Reflection coefficient:  0.5194938532959157\n"
          ]
        }
      ]
    },
    {
      "cell_type": "code",
      "source": [
        "#Planetary orbits:\n",
        "#l1--> distance of closest approach perihelon\n",
        "#v1 --> Velocity at perihelon\n",
        "#l2 --> distance of farthest approach apihelon\n",
        "# v2 --> Velocity at apihelon\n",
        "\n",
        "#Roots : v2\n",
        "G = 6.6738* 10**(-11)\n",
        "M = 1.9891*10**(30) #kg\n",
        "v1 = 3.0287*10**(4) #m/s\n",
        "l1 = 1.4710*10**(11) #m\n",
        "\n",
        "a = 1\n",
        "b = -(2*G*M)/(v1*l1)\n",
        "c = -(v1**2-((2*G*M)/l1))\n",
        "\n",
        "v2_1 = (-b + math.sqrt(b**2-4*a*c))/(2*a)\n",
        "v2_2 = (-b - math.sqrt(b**2-4*a*c))/(2*a)\n",
        "\n",
        "print(\"v2 (first root): \", v2_1)\n",
        "print(\"v2 (second root): \", v2_2)"
      ],
      "metadata": {
        "colab": {
          "base_uri": "https://localhost:8080/"
        },
        "id": "TGCZ4EliCKdK",
        "outputId": "9d176376-ea23-4527-a970-46190d5b9c04"
      },
      "execution_count": null,
      "outputs": [
        {
          "output_type": "stream",
          "name": "stdout",
          "text": [
            "v2 (first root):  30287.000000000153\n",
            "v2 (second root):  29305.399177261148\n"
          ]
        }
      ]
    },
    {
      "cell_type": "code",
      "source": [
        "#To find all the other parameters of the orbit\n",
        "#Semi major axis:\n",
        "l2 = (l1*v1)/v2_2\n",
        "\n",
        "a = 1/2*(l1+l2)\n",
        "b = math.sqrt(l1*l2)\n",
        "T = (2*math.pi*a*b)/(l1*v1)\n",
        "e = ((l2-l1)/(l2+l1))\n",
        "\n",
        "T_years = T/(365*24*60*60)\n",
        "\n",
        "print(\"Semi major axis: \", a)\n",
        "print(\"Semi minor axis: \", b)\n",
        "print(\"Orbital period: \", T)\n",
        "print(\"Orbital eccentricity: \", e)\n",
        "print(\"T in years\", T_years)"
      ],
      "metadata": {
        "colab": {
          "base_uri": "https://localhost:8080/"
        },
        "id": "LuqEX1aWJZYP",
        "outputId": "d4aa0688-4ff0-45ed-ab58-a2b07f33177c"
      },
      "execution_count": null,
      "outputs": [
        {
          "output_type": "stream",
          "name": "stdout",
          "text": [
            "Semi major axis:  149563598604.3303\n",
            "Semi minor axis:  149543307136.74207\n",
            "Orbital period:  31543060.20788706\n",
            "Orbital eccentricity:  0.016471913134744297\n",
            "T in years 1.0002238777234609\n"
          ]
        }
      ]
    },
    {
      "cell_type": "code",
      "source": [
        "#For halley's commet\n",
        "l1 = 8.7830*10**10 #m\n",
        "v1 = 5.4529*10**(4) #m/s\n",
        "\n",
        "#To calculate all the properties again\n",
        "G = 6.6738* 10**(-11)\n",
        "M = 1.9891*10**(30) #kg\n",
        "\n",
        "a = 1\n",
        "b = -(2*G*M)/(v1*l1)\n",
        "c = -(v1**2-((2*G*M)/l1))\n",
        "\n",
        "v2_1 = (-b + math.sqrt(b**2-4*a*c))/(2*a)\n",
        "v2_2 = (-b - math.sqrt(b**2-4*a*c))/(2*a)\n",
        "\n",
        "print(\"v2 (first root): \", v2_1)\n",
        "print(\"v2 (second root): \", v2_2)\n",
        "\n",
        "l2 = (l1*v1)/v2_2\n",
        "\n",
        "a = 1/2*(l1+l2)\n",
        "b = math.sqrt(l1*l2)\n",
        "T = (2*math.pi*a*b)/(l1*v1)\n",
        "e = ((l2-l1)/(l2+l1))\n",
        "T_years = T/(365*24*60*60)\n",
        "\n",
        "print(\"Semi major axis: \", a)\n",
        "print(\"Semi minor axis: \", b)\n",
        "print(\"Orbital period: \", T)\n",
        "print(\"Orbital eccentricity: \", e)\n",
        "print(\"T in years\", T_years)"
      ],
      "metadata": {
        "colab": {
          "base_uri": "https://localhost:8080/"
        },
        "id": "jwjuc79IKPvK",
        "outputId": "371940db-207a-4970-b4e0-b38e85f7026f"
      },
      "execution_count": null,
      "outputs": [
        {
          "output_type": "stream",
          "name": "stdout",
          "text": [
            "v2 (first root):  54529.0\n",
            "v2 (second root):  906.6806969191493\n",
            "Semi major axis:  2685022330438.2207\n",
            "Semi minor axis:  681129146098.431\n",
            "Orbital period:  2399312511.8451877\n",
            "Orbital eccentricity:  0.9672889126454061\n",
            "T in years 76.08170065465461\n"
          ]
        }
      ]
    },
    {
      "cell_type": "code",
      "source": [
        "#Therefore we can see that the orbital period of halley's comet is 76 years"
      ],
      "metadata": {
        "id": "wqA4uCXXKyFq"
      },
      "execution_count": null,
      "outputs": []
    },
    {
      "cell_type": "code",
      "source": [
        "#Controling programs with if else loops\n",
        "#if statement\n",
        "\n",
        "x = int(input(\"Enter a value greater than 10: \"))\n",
        "if x> 10:\n",
        "  print(\"Number is greater than 10\")\n",
        "elif x == 10:\n",
        "  print(\"Number entered is 10\")\n",
        "else:\n",
        "    print(\"Number is less than 10\")"
      ],
      "metadata": {
        "colab": {
          "base_uri": "https://localhost:8080/"
        },
        "id": "fDd26LGNLn8p",
        "outputId": "965ed32d-cbc2-4d12-a056-8b815bbc0a2a"
      },
      "execution_count": null,
      "outputs": [
        {
          "output_type": "stream",
          "name": "stdout",
          "text": [
            "Enter a value greater than 10: 10\n",
            "Number entered is 10\n"
          ]
        }
      ]
    },
    {
      "cell_type": "code",
      "source": [
        "#Some syntax to remeber\n",
        "x = 5\n",
        "if x ==1:\n",
        "  print(x)\n",
        "\n",
        "if x> 1:\n",
        "  print(x)\n",
        "\n",
        "if x>= 1:\n",
        "  print(x)\n",
        "\n",
        "if x< 1:\n",
        "  print(x)\n",
        "\n",
        "if x<= 1:\n",
        "  print(x)\n",
        "\n",
        "if x!=1:\n",
        "  print(x)"
      ],
      "metadata": {
        "colab": {
          "base_uri": "https://localhost:8080/"
        },
        "id": "9WDtVwgcVbbe",
        "outputId": "aae74187-88b3-473e-90fe-051f825572ac"
      },
      "execution_count": null,
      "outputs": [
        {
          "output_type": "stream",
          "name": "stdout",
          "text": [
            "5\n",
            "5\n",
            "5\n"
          ]
        }
      ]
    },
    {
      "cell_type": "code",
      "source": [
        "#The while statement:\n",
        "x = int(input(\"Enter a whole number greater than 10 : \"))\n",
        "while x> 10:\n",
        "  print(\"This is greater than 10, please try again\")\n",
        "  x = int(input(\"Enter a number greater than 10 \"))\n",
        "print(\"Your number is \", x)\n"
      ],
      "metadata": {
        "colab": {
          "base_uri": "https://localhost:8080/"
        },
        "id": "BvhlgOIsWknW",
        "outputId": "c3a7d3f0-361f-446e-bdaf-4bd53cf77270"
      },
      "execution_count": null,
      "outputs": [
        {
          "output_type": "stream",
          "name": "stdout",
          "text": [
            "Enter a whole number greater than 10 : 10\n",
            "Your number is  10\n"
          ]
        }
      ]
    },
    {
      "cell_type": "code",
      "source": [
        "#break and continue\n",
        "\n",
        "#Break --> allows us to break out the while loop\n",
        "#Continue --> Continues the while loop\n",
        "x = int(input(\"Enter a number geater than 10 \"))\n",
        "while x>10:\n",
        "  print(\"This is greater than 10, please try again\")\n",
        "  x = int(input(\"Enter a whole number greater than 10\"))\n",
        "  if x == 111:\n",
        "    break"
      ],
      "metadata": {
        "id": "20CwMF3PkqK3",
        "colab": {
          "base_uri": "https://localhost:8080/"
        },
        "outputId": "e9a8fe0e-e4d0-4374-b51f-48517a35705c"
      },
      "execution_count": null,
      "outputs": [
        {
          "name": "stdout",
          "output_type": "stream",
          "text": [
            "Enter a number geater than 10 100\n",
            "This is greater than 10, please try again\n",
            "Enter a whole number greater than 10111\n"
          ]
        }
      ]
    },
    {
      "cell_type": "code",
      "source": [
        "#Even and odd numbers\n",
        "# Remember, n%2 == 0 if and only if n is even\n",
        "n = int(input(\"Enter the value of n \"))\n",
        "if n%2 == 0:\n",
        "  print(\"Even\")\n",
        "else:\n",
        "  print(\"odd\")"
      ],
      "metadata": {
        "colab": {
          "base_uri": "https://localhost:8080/"
        },
        "id": "vQdCngWEC7hb",
        "outputId": "38c8e627-e4c9-4280-fb49-49a8ae103398"
      },
      "execution_count": null,
      "outputs": [
        {
          "output_type": "stream",
          "name": "stdout",
          "text": [
            "Enter the value of n 10\n",
            "Even\n"
          ]
        }
      ]
    },
    {
      "cell_type": "code",
      "source": [
        "# Program that asks 2 integers --> one even and one odd and keeps asking until it gets what it wants\n",
        "\n",
        "print(\"Enter 2 digits, one even and one odd\")\n",
        "m = int(input(\"Enter the first integer: \"))\n",
        "n = int(input(\"Enter the second integer: \"))\n",
        "while (m+n)%2 ==0:\n",
        "  print(\"One must be even and other odd\")\n",
        "  m = int(input(\"Enter the first integer: \"))\n",
        "  n = int(input(\"Enter the second integer: \"))\n",
        "print(f'The numbers you chose are {m} and {n1}')"
      ],
      "metadata": {
        "colab": {
          "base_uri": "https://localhost:8080/"
        },
        "id": "D4t-dNSgDusS",
        "outputId": "eb212459-ae50-4b2d-88ab-c1c75eefcbd2"
      },
      "execution_count": null,
      "outputs": [
        {
          "output_type": "stream",
          "name": "stdout",
          "text": [
            "Enter 2 digits, one even and one odd\n",
            "Enter the first integer: 5\n",
            "Enter the second integer: 5\n",
            "One must be even and other odd\n",
            "Enter the first integer: 10\n",
            "Enter the second integer: 10\n",
            "One must be even and other odd\n",
            "Enter the first integer: 10\n",
            "Enter the second integer: 1\n",
            "The numbers you chose are 10 and 1\n"
          ]
        }
      ]
    },
    {
      "cell_type": "code",
      "source": [
        "#Example 2.4 : Fibonacci sequence\n",
        "#Fibonacci sequence is a sequence of integers in which each is the sum of the previous two, with the first 2 numbers being 1 and 1\n",
        "\n",
        "#1, 1, 2, 3, 5, 8, 13, 21, 34 etc...\n",
        "\n",
        "f1= 1\n",
        "f2 =1\n",
        "while f1<=1000:\n",
        "  print(f1)\n",
        "  f_next = f1+f2\n",
        "  f1= f2\n",
        "  f2 = f_next"
      ],
      "metadata": {
        "colab": {
          "base_uri": "https://localhost:8080/"
        },
        "id": "cdAQXXjiGcHS",
        "outputId": "fb0422c0-f78e-4599-8445-2267b00dc94c"
      },
      "execution_count": null,
      "outputs": [
        {
          "output_type": "stream",
          "name": "stdout",
          "text": [
            "1\n",
            "1\n",
            "2\n",
            "3\n",
            "5\n",
            "8\n",
            "13\n",
            "21\n",
            "34\n",
            "55\n",
            "89\n",
            "144\n",
            "233\n",
            "377\n",
            "610\n",
            "987\n"
          ]
        }
      ]
    },
    {
      "cell_type": "code",
      "source": [
        "#neater way to solve the same problem: using \"multiple assignment\" feature\n",
        "f1, f2 = 1, 1\n",
        "while f1<= 10000:\n",
        "  print(f1)\n",
        "  f1, f2 = f2, f1+f2"
      ],
      "metadata": {
        "colab": {
          "base_uri": "https://localhost:8080/"
        },
        "id": "_2VBxiRQHczC",
        "outputId": "00076f5f-04d4-4842-f7d2-7eb09d362385"
      },
      "execution_count": null,
      "outputs": [
        {
          "output_type": "stream",
          "name": "stdout",
          "text": [
            "1\n",
            "1\n",
            "2\n",
            "3\n",
            "5\n",
            "8\n",
            "13\n",
            "21\n",
            "34\n",
            "55\n",
            "89\n",
            "144\n",
            "233\n",
            "377\n",
            "610\n",
            "987\n",
            "1597\n",
            "2584\n",
            "4181\n",
            "6765\n"
          ]
        }
      ]
    },
    {
      "cell_type": "code",
      "source": [
        "\n",
        "#Catalan Numbers\n",
        "#Catalan numbers are the integers produced as a sequence that plays an imp role in QM"
      ],
      "metadata": {
        "id": "K0cvRiK6H-NK"
      },
      "execution_count": null,
      "outputs": []
    },
    {
      "cell_type": "markdown",
      "source": [
        "####Using for loop"
      ],
      "metadata": {
        "id": "FenG0sCPY8-G"
      }
    },
    {
      "cell_type": "code",
      "source": [
        "# Initialize\n",
        "c = 1  # C0\n",
        "n_terms = 10 #Number of terms to compute\n",
        "c_next = c\n",
        "\n",
        "# Compute and add next terms\n",
        "for n in range(1, n_terms):\n",
        "    c = c * ((4*(n - 1) + 2) / (n + 1)) # Apply recurrence using Cn\n",
        "    c_next += c\n",
        "    print(int(c))\n"
      ],
      "metadata": {
        "colab": {
          "base_uri": "https://localhost:8080/"
        },
        "id": "BrIoB7pqXKHX",
        "outputId": "b56e4c43-34e9-4b35-d241-77ac5ce668bf"
      },
      "execution_count": null,
      "outputs": [
        {
          "output_type": "stream",
          "name": "stdout",
          "text": [
            "1\n",
            "2\n",
            "5\n",
            "14\n",
            "42\n",
            "132\n",
            "429\n",
            "1430\n",
            "4862\n"
          ]
        }
      ]
    },
    {
      "cell_type": "markdown",
      "source": [
        "###Using while loop"
      ],
      "metadata": {
        "id": "Jv1k8IM9Y_yu"
      }
    },
    {
      "cell_type": "code",
      "source": [
        "C = 1\n",
        "n = 0\n",
        "print(C)\n",
        "\n",
        "while C <= 1e9:\n",
        "    C = C*(4*n+2)/(n+2)\n",
        "    print(int(C))\n",
        "    n += 1"
      ],
      "metadata": {
        "colab": {
          "base_uri": "https://localhost:8080/"
        },
        "id": "dC4AlcZqK8ya",
        "outputId": "d6ee80c9-fe49-4de1-d6cc-8a066bb4885c"
      },
      "execution_count": null,
      "outputs": [
        {
          "output_type": "stream",
          "name": "stdout",
          "text": [
            "1\n",
            "1\n",
            "2\n",
            "5\n",
            "14\n",
            "42\n",
            "132\n",
            "429\n",
            "1430\n",
            "4862\n",
            "16796\n",
            "58786\n",
            "208012\n",
            "742900\n",
            "2674440\n",
            "9694845\n",
            "35357670\n",
            "129644790\n",
            "477638700\n",
            "1767263190\n"
          ]
        }
      ]
    },
    {
      "cell_type": "markdown",
      "source": [
        "#Lists and array"
      ],
      "metadata": {
        "id": "bGw7pcnqZELO"
      }
    },
    {
      "cell_type": "code",
      "source": [
        "#Lists\n",
        "#It is the most basic type of container in python\n",
        "# denoted by [ ]\n",
        "#It can store any kind of data, like integer floats etc...\n",
        "\n",
        "A = [ 1, 2, 3, 4, 5]\n",
        "print(A)"
      ],
      "metadata": {
        "colab": {
          "base_uri": "https://localhost:8080/"
        },
        "id": "CMhed8MNZC4G",
        "outputId": "2aeb5f44-ce4d-4471-e646-97826f9ab0a3"
      },
      "execution_count": null,
      "outputs": [
        {
          "output_type": "stream",
          "name": "stdout",
          "text": [
            "[1, 2, 3, 4, 5]\n"
          ]
        }
      ]
    },
    {
      "cell_type": "code",
      "source": [
        "x = 1\n",
        "y = 1.5\n",
        "z = 5.2\n",
        "\n",
        "r = [x, y, z]\n",
        "print(r)"
      ],
      "metadata": {
        "colab": {
          "base_uri": "https://localhost:8080/"
        },
        "id": "HOUSnBpcaLfu",
        "outputId": "c262eafb-d3aa-4f4d-eaf7-1b74dfb4e74b"
      },
      "execution_count": null,
      "outputs": [
        {
          "output_type": "stream",
          "name": "stdout",
          "text": [
            "[1, 1.5, 5.2]\n"
          ]
        }
      ]
    },
    {
      "cell_type": "code",
      "source": [
        "from math import sqrt\n",
        "r = [1, 3.5 ,1.5, 2,5]\n",
        "length = sqrt(r[0]**2+r[1]**2+r[2]**2+r[3]**2)\n",
        "print(length)"
      ],
      "metadata": {
        "colab": {
          "base_uri": "https://localhost:8080/"
        },
        "id": "rF0iJ_uRaTE1",
        "outputId": "c0f4a501-1c8f-4c52-ba9f-1c6d835813b8"
      },
      "execution_count": null,
      "outputs": [
        {
          "output_type": "stream",
          "name": "stdout",
          "text": [
            "4.415880433163924\n"
          ]
        }
      ]
    },
    {
      "cell_type": "code",
      "source": [
        "r[1]"
      ],
      "metadata": {
        "colab": {
          "base_uri": "https://localhost:8080/"
        },
        "id": "1UjNr6cHegsh",
        "outputId": "325054f6-ecc0-47f4-d158-4d116fb870e7"
      },
      "execution_count": null,
      "outputs": [
        {
          "output_type": "execute_result",
          "data": {
            "text/plain": [
              "3.5"
            ]
          },
          "metadata": {},
          "execution_count": 44
        }
      ]
    },
    {
      "cell_type": "code",
      "source": [
        "len(r)"
      ],
      "metadata": {
        "colab": {
          "base_uri": "https://localhost:8080/"
        },
        "id": "XXOgEGSPekGa",
        "outputId": "f75c9f39-e40c-41b8-c50b-e469c2707376"
      },
      "execution_count": null,
      "outputs": [
        {
          "output_type": "execute_result",
          "data": {
            "text/plain": [
              "5"
            ]
          },
          "metadata": {},
          "execution_count": 45
        }
      ]
    },
    {
      "cell_type": "code",
      "source": [
        "mean = sum(r)/len(r)\n",
        "print(\"mean = \", mean)"
      ],
      "metadata": {
        "colab": {
          "base_uri": "https://localhost:8080/"
        },
        "id": "_qvz3a3PenE5",
        "outputId": "91ecb6a3-048c-4aad-d1e4-d79a7eb1b9f3"
      },
      "execution_count": null,
      "outputs": [
        {
          "output_type": "stream",
          "name": "stdout",
          "text": [
            "mean =  2.6\n"
          ]
        }
      ]
    },
    {
      "cell_type": "code",
      "source": [
        "#To find the log of the list elements\n",
        "from math import log\n",
        "log_r = list(map(log, r))\n",
        "print(log_r)"
      ],
      "metadata": {
        "colab": {
          "base_uri": "https://localhost:8080/"
        },
        "id": "_-vLNbC6eujh",
        "outputId": "11770b28-fac5-4455-e54c-234fdd912a66"
      },
      "execution_count": null,
      "outputs": [
        {
          "output_type": "stream",
          "name": "stdout",
          "text": [
            "[0.0, 1.252762968495368, 0.4054651081081644, 0.6931471805599453, 1.6094379124341003]\n"
          ]
        }
      ]
    },
    {
      "cell_type": "code",
      "source": [
        "r.append(6.1) #We can add new element to the list"
      ],
      "metadata": {
        "id": "lxc9DbxDfBXJ"
      },
      "execution_count": null,
      "outputs": []
    },
    {
      "cell_type": "code",
      "source": [
        "#To remove an element from a list\n",
        "r.pop() #It removes the last element\n",
        "print(r)\n",
        "\n",
        "#We can remove any number of our choice from the list using r.pop(n) where n --> Number that we wanted to remove"
      ],
      "metadata": {
        "colab": {
          "base_uri": "https://localhost:8080/"
        },
        "id": "ov8U-FxkfLEh",
        "outputId": "310bbe9e-a8d5-496c-f3bc-fca3473f71a3"
      },
      "execution_count": null,
      "outputs": [
        {
          "output_type": "stream",
          "name": "stdout",
          "text": [
            "[1, 3.5, 1.5, 2]\n"
          ]
        }
      ]
    },
    {
      "cell_type": "code",
      "source": [
        "r.pop(2)\n",
        "print(r)"
      ],
      "metadata": {
        "colab": {
          "base_uri": "https://localhost:8080/"
        },
        "id": "Gzgxxje1fWap",
        "outputId": "50175fa2-13c0-4d31-f57c-b3c15a815330"
      },
      "execution_count": null,
      "outputs": [
        {
          "output_type": "stream",
          "name": "stdout",
          "text": [
            "[1, 3.5, 2]\n"
          ]
        }
      ]
    },
    {
      "cell_type": "code",
      "source": [
        "#Arrays\n",
        "#An array is ordered set of values\n",
        "#Number of elements in an array is fixed\n",
        "#Can be 2 D or 3D\n",
        "\n",
        "#Numpy\n",
        "#Also known as Numerical Python\n",
        "import numpy as np\n",
        "a = np.zeros(4, float)\n",
        "a"
      ],
      "metadata": {
        "colab": {
          "base_uri": "https://localhost:8080/"
        },
        "id": "IFRF-IA-f4Cz",
        "outputId": "e90fb7c0-3acb-463c-de83-4c767979d257"
      },
      "execution_count": null,
      "outputs": [
        {
          "output_type": "execute_result",
          "data": {
            "text/plain": [
              "array([0., 0., 0., 0.])"
            ]
          },
          "metadata": {},
          "execution_count": 64
        }
      ]
    },
    {
      "cell_type": "code",
      "source": [
        "b = np.zeros([3, 4], float)\n",
        "b"
      ],
      "metadata": {
        "colab": {
          "base_uri": "https://localhost:8080/"
        },
        "id": "jFDOGZ1HgUFq",
        "outputId": "15595b5e-f638-4a18-c81a-1c6b5e7e486e"
      },
      "execution_count": null,
      "outputs": [
        {
          "output_type": "execute_result",
          "data": {
            "text/plain": [
              "array([[0., 0., 0., 0.],\n",
              "       [0., 0., 0., 0.],\n",
              "       [0., 0., 0., 0.]])"
            ]
          },
          "metadata": {},
          "execution_count": 66
        }
      ]
    },
    {
      "cell_type": "code",
      "source": [
        "from numpy import empty\n",
        "a = empty(4, float)"
      ],
      "metadata": {
        "id": "sUzr-tkkgbO5"
      },
      "execution_count": null,
      "outputs": []
    },
    {
      "cell_type": "code",
      "source": [
        "a = np.array([[2, 3, 4], [7, 8, 9]])\n",
        "print(a)"
      ],
      "metadata": {
        "colab": {
          "base_uri": "https://localhost:8080/"
        },
        "id": "C6RIykrXghm5",
        "outputId": "8a6d969c-512d-42b7-d917-7da40f4424b9"
      },
      "execution_count": null,
      "outputs": [
        {
          "output_type": "stream",
          "name": "stdout",
          "text": [
            "[[2 3 4]\n",
            " [7 8 9]]\n"
          ]
        }
      ]
    },
    {
      "cell_type": "code",
      "source": [
        "#Slicing in arrays\n",
        "r = [1, 3, 6, 9, 8, 7, 8, 9, 10]\n",
        "s = r[2:5]\n",
        "print(s)"
      ],
      "metadata": {
        "id": "6kv7yb2Jgt6Z",
        "colab": {
          "base_uri": "https://localhost:8080/"
        },
        "outputId": "19e1bba1-f470-4bfe-ab8f-a93e1e380a6b"
      },
      "execution_count": 1,
      "outputs": [
        {
          "output_type": "stream",
          "name": "stdout",
          "text": [
            "[6, 9, 8]\n"
          ]
        }
      ]
    },
    {
      "cell_type": "code",
      "source": [
        "#Other varients in slicing\n",
        "a = r[2:]\n",
        "b = r[:5]\n",
        "print(a)\n",
        "print(b)"
      ],
      "metadata": {
        "colab": {
          "base_uri": "https://localhost:8080/"
        },
        "id": "KcCH1c_JN-fQ",
        "outputId": "40be6d9f-036c-4a80-9492-da1c1e5d6141"
      },
      "execution_count": 3,
      "outputs": [
        {
          "output_type": "stream",
          "name": "stdout",
          "text": [
            "[6, 9, 8, 7, 8, 9, 10]\n",
            "[1, 3, 6, 9, 8]\n"
          ]
        }
      ]
    },
    {
      "cell_type": "code",
      "source": [
        "#For loops\n",
        "r = [1, 3, 5]\n",
        "for n in r:\n",
        "  print(n)\n",
        "  print(2*n)\n",
        "print(\"Finished\")"
      ],
      "metadata": {
        "colab": {
          "base_uri": "https://localhost:8080/"
        },
        "id": "_JC8BcspOLSn",
        "outputId": "6fbb623b-a134-4303-e910-f963cf861904"
      },
      "execution_count": 4,
      "outputs": [
        {
          "output_type": "stream",
          "name": "stdout",
          "text": [
            "1\n",
            "2\n",
            "3\n",
            "6\n",
            "5\n",
            "10\n",
            "Finished\n"
          ]
        }
      ]
    },
    {
      "cell_type": "code",
      "source": [
        "for i in range(5):\n",
        "  print(\"Hello Sejal\")"
      ],
      "metadata": {
        "colab": {
          "base_uri": "https://localhost:8080/"
        },
        "id": "u5KzIt2iOdag",
        "outputId": "6d7eccba-fe98-48e0-df7a-b9a5dac68f6c"
      },
      "execution_count": 5,
      "outputs": [
        {
          "output_type": "stream",
          "name": "stdout",
          "text": [
            "Hello Sejal\n",
            "Hello Sejal\n",
            "Hello Sejal\n",
            "Hello Sejal\n",
            "Hello Sejal\n"
          ]
        }
      ]
    },
    {
      "cell_type": "code",
      "source": [
        "for i in range(50):\n",
        "  print(i**2)"
      ],
      "metadata": {
        "colab": {
          "base_uri": "https://localhost:8080/"
        },
        "id": "1apvGBH1Oy-F",
        "outputId": "f2e5dcbb-4e56-498f-e9ba-997ccb50d69c"
      },
      "execution_count": 9,
      "outputs": [
        {
          "output_type": "stream",
          "name": "stdout",
          "text": [
            "0\n",
            "1\n",
            "4\n",
            "9\n",
            "16\n",
            "25\n",
            "36\n",
            "49\n",
            "64\n",
            "81\n",
            "100\n",
            "121\n",
            "144\n",
            "169\n",
            "196\n",
            "225\n",
            "256\n",
            "289\n",
            "324\n",
            "361\n",
            "400\n",
            "441\n",
            "484\n",
            "529\n",
            "576\n",
            "625\n",
            "676\n",
            "729\n",
            "784\n",
            "841\n",
            "900\n",
            "961\n",
            "1024\n",
            "1089\n",
            "1156\n",
            "1225\n",
            "1296\n",
            "1369\n",
            "1444\n",
            "1521\n",
            "1600\n",
            "1681\n",
            "1764\n",
            "1849\n",
            "1936\n",
            "2025\n",
            "2116\n",
            "2209\n",
            "2304\n",
            "2401\n"
          ]
        }
      ]
    },
    {
      "cell_type": "code",
      "source": [
        "#Performing sum\n",
        "s = 0.0\n",
        "for k in range(1, 101):\n",
        "  s+=1/k\n",
        "print(s)"
      ],
      "metadata": {
        "colab": {
          "base_uri": "https://localhost:8080/"
        },
        "id": "8Aoa81LjO4ru",
        "outputId": "964dbf99-d0f3-4e9a-e7a1-b99efae0d873"
      },
      "execution_count": 10,
      "outputs": [
        {
          "output_type": "stream",
          "name": "stdout",
          "text": [
            "5.187377517639621\n"
          ]
        }
      ]
    },
    {
      "cell_type": "code",
      "source": [
        "#Exercise-2.9\n",
        "#Madelung constant\n",
        "#To write a program to calculate and print the madelung constant for NaCl\n",
        "import numpy as np\n",
        "M=0\n",
        "L = 100\n",
        "for i in range(-L, L+1):\n",
        "  for j in range(-L, L+1):\n",
        "    for k in range(-L, L+1):\n",
        "      if (i==j==k==0):\n",
        "        continue\n",
        "      M += (-1)**(i+j+k)/(np.sqrt(i**2+j**2+k**2))\n",
        "print(M)"
      ],
      "metadata": {
        "colab": {
          "base_uri": "https://localhost:8080/"
        },
        "id": "cUH8OeObS4bL",
        "outputId": "2ef342bb-93a5-46fd-aae9-650d7de75f64"
      },
      "execution_count": 17,
      "outputs": [
        {
          "output_type": "stream",
          "name": "stdout",
          "text": [
            "-1.7418198158396654\n"
          ]
        }
      ]
    },
    {
      "cell_type": "code",
      "source": [
        "#Semi empirical mass formula\n",
        "a1 = 15.8\n",
        "a2 = 18.3\n",
        "a3 = 0.714\n",
        "a4 = 23.2\n",
        "\n",
        "A = float(input(\"Enter value of A : \"))\n",
        "Z = float(input(\"Enter value of Z : \"))\n",
        "\n",
        "if A%2 !=0:\n",
        "  a5 = 0\n",
        "elif A%2 ==0 and Z%2 ==0:\n",
        "  a5 = 12\n",
        "else:\n",
        "  a5 = -12\n",
        "print(\"a5 = \", a5)\n",
        "\n",
        "B = a1*A - a2*A**(2/3)- a3*(Z**2/A**(1/3))- a4*(((A-2*Z)**2)/A)+ a5/(A**(1/2))\n",
        "print(\"Binding Energy is \", B)"
      ],
      "metadata": {
        "colab": {
          "base_uri": "https://localhost:8080/"
        },
        "id": "q7F3riQ5VYbM",
        "outputId": "5410a1dd-e432-46b7-de13-8feb751733c6"
      },
      "execution_count": 22,
      "outputs": [
        {
          "output_type": "stream",
          "name": "stdout",
          "text": [
            "Enter value of A : 58\n",
            "Enter value of Z : 28\n",
            "a5 =  12\n",
            "Binding Energy is  497.5620206224374\n"
          ]
        }
      ]
    },
    {
      "cell_type": "code",
      "source": [
        "#Binding energy per nucleon\n",
        "B_per_nucleon = B/A\n",
        "print(\"Binding energy Per nucleon is \", B_per_nucleon)"
      ],
      "metadata": {
        "colab": {
          "base_uri": "https://localhost:8080/"
        },
        "id": "GfT6ixhUYAkh",
        "outputId": "c6a77c35-56f2-49e3-cc27-dbb6b6c07e72"
      },
      "execution_count": 23,
      "outputs": [
        {
          "output_type": "stream",
          "name": "stdout",
          "text": [
            "Binding energy Per nucleon is  8.578655527973059\n"
          ]
        }
      ]
    },
    {
      "cell_type": "code",
      "source": [
        "#To find the stable nucleus for A\n",
        "A = int(input(\"Enter the value of A \"))\n",
        "\n"
      ],
      "metadata": {
        "id": "wUyLJr7NZUar"
      },
      "execution_count": null,
      "outputs": []
    },
    {
      "cell_type": "code",
      "source": [
        "#User defined functions\n",
        "f = 1.0\n",
        "n = 10\n",
        "for k in range(1, n+1):\n",
        "  f*=k\n",
        "  print(f)"
      ],
      "metadata": {
        "colab": {
          "base_uri": "https://localhost:8080/"
        },
        "id": "KfPrTt6-d7Ct",
        "outputId": "06ba54d1-39b7-4b70-eb77-d2be4a04a915"
      },
      "execution_count": 26,
      "outputs": [
        {
          "output_type": "stream",
          "name": "stdout",
          "text": [
            "1.0\n",
            "2.0\n",
            "6.0\n",
            "24.0\n",
            "120.0\n",
            "720.0\n",
            "5040.0\n",
            "40320.0\n",
            "362880.0\n",
            "3628800.0\n"
          ]
        }
      ]
    },
    {
      "cell_type": "code",
      "source": [
        "def factorial(n):\n",
        "  f = 1.0\n",
        "  for k in range(1, n+1):\n",
        "    f*=k\n",
        "  return f\n",
        "\n",
        "factorial(11)"
      ],
      "metadata": {
        "colab": {
          "base_uri": "https://localhost:8080/"
        },
        "id": "mfGb-KEeeNvR",
        "outputId": "bb71c694-9459-4e97-df53-7aec55c17a50"
      },
      "execution_count": 30,
      "outputs": [
        {
          "output_type": "execute_result",
          "data": {
            "text/plain": [
              "39916800.0"
            ]
          },
          "metadata": {},
          "execution_count": 30
        }
      ]
    },
    {
      "cell_type": "code",
      "source": [
        "import numpy as np\n",
        "def distance(r, theta, z):\n",
        "  x = r*np.cos(theta)\n",
        "  y = r*np.sin(theta)\n",
        "  d = np.sqrt(x**2+y**2+z**2)\n",
        "  return d\n",
        "\n",
        "distance(2, 30, 10)"
      ],
      "metadata": {
        "colab": {
          "base_uri": "https://localhost:8080/"
        },
        "id": "R4SMwr_teeE7",
        "outputId": "b4b46ab7-2200-4846-a6f8-055f887dbf78"
      },
      "execution_count": 33,
      "outputs": [
        {
          "output_type": "execute_result",
          "data": {
            "text/plain": [
              "np.float64(10.198039027185569)"
            ]
          },
          "metadata": {},
          "execution_count": 33
        }
      ]
    },
    {
      "cell_type": "code",
      "source": [
        "#Prime factors and prime number\n",
        "def factors(n):\n",
        "  factorlist = []\n",
        "  k = 2\n",
        "  while k<=n:\n",
        "    while n% k ==0:\n",
        "      factorlist.append(k)\n",
        "      n//=k\n",
        "    k+=1\n",
        "  return factorlist"
      ],
      "metadata": {
        "id": "Itk54sIne6Kp"
      },
      "execution_count": 34,
      "outputs": []
    },
    {
      "cell_type": "code",
      "source": [],
      "metadata": {
        "id": "zSmRxW5GfZFo"
      },
      "execution_count": null,
      "outputs": []
    }
  ]
}