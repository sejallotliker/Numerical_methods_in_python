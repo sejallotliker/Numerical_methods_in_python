{
  "nbformat": 4,
  "nbformat_minor": 0,
  "metadata": {
    "colab": {
      "provenance": [],
      "authorship_tag": "ABX9TyPlq27wnGLSIXnCZifPCLrw",
      "include_colab_link": true
    },
    "kernelspec": {
      "name": "python3",
      "display_name": "Python 3"
    },
    "language_info": {
      "name": "python"
    }
  },
  "cells": [
    {
      "cell_type": "markdown",
      "metadata": {
        "id": "view-in-github",
        "colab_type": "text"
      },
      "source": [
        "<a href=\"https://colab.research.google.com/github/sejallotliker/Numerical_methods_in_python/blob/main/basic_python/python_programming_for_physicists.ipynb\" target=\"_parent\"><img src=\"https://colab.research.google.com/assets/colab-badge.svg\" alt=\"Open In Colab\"/></a>"
      ]
    },
    {
      "cell_type": "markdown",
      "source": [
        "### Practice problems from Computational Physics by Mark Newman\n",
        "\n",
        "##Ch-1. Introduction\n",
        "\n",
        "\n",
        "ENIAC --> 1st computer in human history\n",
        "\n"
      ],
      "metadata": {
        "id": "jtlWdeYy0BzF"
      }
    },
    {
      "cell_type": "code",
      "execution_count": null,
      "metadata": {
        "colab": {
          "base_uri": "https://localhost:8080/"
        },
        "id": "R4MnciaCpcLM",
        "outputId": "8432241d-8e15-4399-e20e-a21c711567a9"
      },
      "outputs": [
        {
          "output_type": "stream",
          "name": "stdout",
          "text": [
            "Series for m =  1\n",
            "  121.5436037678517 nm\n",
            "  102.55241567912488 nm\n",
            "  97.23488301428137 nm\n",
            "  94.95594044363415 nm\n",
            "  93.76220862091418 nm\n",
            "Series for m =  2\n",
            "  656.3354603463993 nm\n",
            "  486.1744150714068 nm\n",
            "  434.084299170899 nm\n",
            "  410.2096627164995 nm\n",
            "  397.04243897498225 nm\n",
            "Series for m =  3\n",
            "  1875.2441724182836 nm\n",
            "  1281.9051959890612 nm\n",
            "  1093.8924339106654 nm\n",
            "  1005.013673655424 nm\n",
            "  954.6697605038536 nm\n",
            "Series for m =  4\n",
            "  4051.453458928391 nm\n",
            "  2625.341841385597 nm\n",
            "  2165.68603077263 nm\n",
            "  1944.6976602856273 nm\n",
            "  1817.5443517284903 nm\n",
            "Series for m =  5\n",
            "  7458.357503936354 nm\n",
            "  4652.841081738073 nm\n",
            "  3739.8031928569753 nm\n",
            "  3296.3276468290137 nm\n",
            "  3038.5900941962927 nm\n"
          ]
        }
      ],
      "source": [
        "#Python is a powerful programming language. It has many features which makes physics calculations easier and faster.\n",
        "\n",
        "#Atomic phy problem\n",
        "\n",
        "\n",
        "# 1/( λ) = R (1/m^2 - 1/n^2)\n",
        "#Where R : Rydberg constant\n",
        "\n",
        "# m = 1 --> Lyman\n",
        "# m = 2 --> Balmer\n",
        "# m = 3 --> Paschen\n",
        "# m = 4 --> Bracket\n",
        "# m = 5 --> P-fund\n",
        "\n",
        "#Python program that prints out the wavelengths of the first five lines\n",
        "R = 1.097*10**-2\n",
        "for m in [1, 2, 3, 4, 5]:\n",
        "  print(\"Series for m = \", m )\n",
        "  for k in [1, 2, 3, 4, 5]:\n",
        "    n= m+k\n",
        "    inv_lambda = R*((1/m**2) - (1/n**2))\n",
        "    print(\" \", 1/inv_lambda, \"nm\")\n"
      ]
    },
    {
      "cell_type": "markdown",
      "source": [
        "#Ch-2: Python"
      ],
      "metadata": {
        "id": "x58XGYYv4lNK"
      }
    },
    {
      "cell_type": "code",
      "source": [
        "x = 1\n",
        "print(x)"
      ],
      "metadata": {
        "colab": {
          "base_uri": "https://localhost:8080/"
        },
        "id": "WnKa2ScW4VAD",
        "outputId": "76b0f6c5-d5f1-43f3-d45a-91711798fb51"
      },
      "execution_count": null,
      "outputs": [
        {
          "output_type": "stream",
          "name": "stdout",
          "text": [
            "1\n"
          ]
        }
      ]
    },
    {
      "cell_type": "code",
      "source": [
        "#Variable types ion python\n",
        "# 1. Integer\n",
        "x = 1\n",
        "y = 3\n",
        "print(x, y)\n",
        "\n",
        "# 2. Float\n",
        "\n",
        "x = 1.5\n",
        "y = 2.5\n",
        "\n",
        "print (x+y)\n",
        "\n",
        "# 3. Complex\n",
        "\n",
        "x = 1+ 2j\n",
        "y = 5 + 7j\n",
        "\n",
        "print(x*y)\n",
        "\n",
        "# 4. String\n",
        "a = \" My name is Sejal\"\n",
        "print(a)"
      ],
      "metadata": {
        "colab": {
          "base_uri": "https://localhost:8080/"
        },
        "id": "R2pZR97m4rm7",
        "outputId": "023086d2-4c75-4043-e494-b0570b5a5925"
      },
      "execution_count": null,
      "outputs": [
        {
          "output_type": "stream",
          "name": "stdout",
          "text": [
            "1 3\n",
            "4.0\n",
            "(-9+17j)\n",
            " My name is Sejal\n"
          ]
        }
      ]
    },
    {
      "cell_type": "code",
      "source": [
        "#To take input from the user\n",
        "x = input(\"Enter the value of x : \")"
      ],
      "metadata": {
        "colab": {
          "base_uri": "https://localhost:8080/"
        },
        "id": "teT353RU6E0z",
        "outputId": "7408e64b-c6d8-4d95-8fa7-e5d8bdce7bb3"
      },
      "execution_count": null,
      "outputs": [
        {
          "name": "stdout",
          "output_type": "stream",
          "text": [
            "Enter the value of x : 7\n"
          ]
        }
      ]
    },
    {
      "cell_type": "code",
      "source": [
        "#Arithmetic\n",
        "\n",
        "# x + y --> Addition\n",
        "# x - y --> Subtraction\n",
        "# x * y --> Multiplication\n",
        "# x/y --> Division\n",
        "# x**y --> x raising to the power of y\n"
      ],
      "metadata": {
        "id": "SnkmkBjx6YDL"
      },
      "execution_count": null,
      "outputs": []
    },
    {
      "cell_type": "code",
      "source": [
        "#Integer division and modulo operation\n",
        "# x// y --> Gives the Quotient (integer part)\n",
        "print(14//3)\n",
        "print(-14//3)\n",
        "\n",
        "# x % y --> Modulo (Remainder part)\n",
        "y = 14%3\n",
        "print(y)"
      ],
      "metadata": {
        "colab": {
          "base_uri": "https://localhost:8080/"
        },
        "id": "3CNF_uo881yr",
        "outputId": "50aba7ef-5ffc-46ed-c7f5-9b66c45ea60c"
      },
      "execution_count": null,
      "outputs": [
        {
          "output_type": "stream",
          "name": "stdout",
          "text": [
            "4\n",
            "-5\n",
            "2\n"
          ]
        }
      ]
    },
    {
      "cell_type": "code",
      "source": [
        "#Python modifiers\n",
        "## x += 1\n",
        "## x -= 4\n",
        "## x*= 2.6\n",
        "## x/= 5*y\n",
        "## x//=3.4\n"
      ],
      "metadata": {
        "id": "RWjU1RhV9iNy"
      },
      "execution_count": null,
      "outputs": []
    },
    {
      "cell_type": "code",
      "source": [
        "#A ball dropped from a tower\n",
        "#To print the height above the ground at time tafter it is dropped\n",
        "h = float(input(\"Enter the height of the tower in meters: \"))\n",
        "t = float(input(\"Enter the time interval in sec: \"))\n",
        "g = 9.8\n",
        "s = (1/2)*g*t**2\n",
        "height = h-s\n",
        "print(\"Height of the tower: \", height)"
      ],
      "metadata": {
        "colab": {
          "base_uri": "https://localhost:8080/"
        },
        "id": "XgU8mGSB0_Cz",
        "outputId": "7f470043-33ab-441f-cb57-2c78acddc2a7"
      },
      "execution_count": 6,
      "outputs": [
        {
          "output_type": "stream",
          "name": "stdout",
          "text": [
            "Enter the height of the tower in meters: 150\n",
            "Enter the time interval in sec: 2\n",
            "Height of the tower:  130.4\n"
          ]
        }
      ]
    },
    {
      "cell_type": "code",
      "source": [
        "#Exercise 2.2: Altitude of a satellite\n",
        "import math\n",
        "T = float(input(\"Enter the time in sec: \" ))\n",
        "def height(T):\n",
        "  G = 6.67* 10**(-11)\n",
        "  M = 5.97*10**(24)\n",
        "  R = 6371*10**2\n",
        "  pi = math.pi\n",
        "  h = ((G*M*T**2)/(4*pi**2))**(1/3) - R\n",
        "  return h\n",
        "height_1 = height(T)\n",
        "print(height_1)"
      ],
      "metadata": {
        "colab": {
          "base_uri": "https://localhost:8080/"
        },
        "id": "9lwxEB761uXV",
        "outputId": "ea305bdb-2a09-454a-ec7e-8e4bbec0bd83"
      },
      "execution_count": 34,
      "outputs": [
        {
          "output_type": "stream",
          "name": "stdout",
          "text": [
            "Enter the time in sec: 161\n",
            "2336.4567673050333\n"
          ]
        }
      ]
    },
    {
      "cell_type": "code",
      "source": [
        "#Math library\n",
        "from math import log\n",
        "x = log(2.5)\n",
        "x"
      ],
      "metadata": {
        "colab": {
          "base_uri": "https://localhost:8080/"
        },
        "id": "ygA9_Fo23C4C",
        "outputId": "1f03facb-1687-4571-db66-e369ad19aef5"
      },
      "execution_count": 36,
      "outputs": [
        {
          "output_type": "execute_result",
          "data": {
            "text/plain": [
              "0.9162907318741551"
            ]
          },
          "metadata": {},
          "execution_count": 36
        }
      ]
    },
    {
      "cell_type": "code",
      "source": [
        "from math import *\n",
        "#(* means everything)"
      ],
      "metadata": {
        "id": "g5ZvtnMw4Dhr"
      },
      "execution_count": 37,
      "outputs": []
    },
    {
      "cell_type": "code",
      "source": [
        "#Converting Polar coordinates\n",
        "''' x = rcos(theta)\n",
        "    y = rsin(theta) '''\n",
        "\n",
        "from math import sin, cos, pi\n",
        "r = float(input(\"Enter r: \"))\n",
        "\n",
        "d = float(input(\"Enter the value of theta in degrees: \"))\n",
        "\n",
        "theta = d*pi/180\n",
        "\n",
        "x = r*cos(theta)\n",
        "y = r*sin(theta)\n",
        "\n",
        "print(\"x = \", x, \"y = \", y)\n"
      ],
      "metadata": {
        "colab": {
          "base_uri": "https://localhost:8080/"
        },
        "id": "62-tkTVs4jG7",
        "outputId": "ad81d28a-28d0-434b-9520-2545ee2eee14"
      },
      "execution_count": 41,
      "outputs": [
        {
          "output_type": "stream",
          "name": "stdout",
          "text": [
            "Enter r: 10\n",
            "Enter the value of theta in degrees: 20\n",
            "x =  9.396926207859085 y =  3.420201433256687\n"
          ]
        }
      ]
    },
    {
      "cell_type": "code",
      "source": [
        "#Inverse operation\n",
        "\n",
        "x = float(input(\"Enter the value of x: \"))\n",
        "y = float(input(\"Enter the value of y: \"))\n",
        "\n",
        "d = (y/x)\n",
        "r = math.sqrt(x**2+y**2)\n",
        "theta = math.atan(d)\n",
        "theta_d = theta*(180/math.pi)\n",
        "\n",
        "print(\"r = \", r, \"theta= \", theta_d)"
      ],
      "metadata": {
        "colab": {
          "base_uri": "https://localhost:8080/"
        },
        "id": "rplqIo3Q5UsE",
        "outputId": "84622423-bfc6-474b-eace-898a78016421"
      },
      "execution_count": 60,
      "outputs": [
        {
          "output_type": "stream",
          "name": "stdout",
          "text": [
            "Enter the value of x: 10\n",
            "Enter the value of y: 10000000000000000\n",
            "r =  1e+16 theta=  89.99999999999994\n"
          ]
        }
      ]
    },
    {
      "cell_type": "code",
      "source": [
        "#A spaceship travels from Earth in a straight line at a relativistic speed v to another planet x light years away\n",
        "\n",
        "x = float(input(\"Enter the value of x : \"))\n",
        "v = float(input(\"Enter the value of v in the fraction of c : \"))\n",
        "\n",
        "#To print the time in years that the spaceship takes to reach its destination\n",
        "t = (x/v)\n",
        "print(\"Time perceived by a passenger on board is \", t)\n",
        "t_dialated = (t+(x*v))/math.sqrt(1-(v**2))\n",
        "print(\"Time perceived by an observer on the Earth is \", t_dialated)"
      ],
      "metadata": {
        "colab": {
          "base_uri": "https://localhost:8080/"
        },
        "id": "Ehb9THNX6GCs",
        "outputId": "c2a69a18-720c-48d6-8c2d-44c230150ce7"
      },
      "execution_count": 68,
      "outputs": [
        {
          "output_type": "stream",
          "name": "stdout",
          "text": [
            "Enter the value of x : 10\n",
            "Enter the value of v in the fraction of c : 0.99\n",
            "Time perceived by a passenger on board is  10.1010101010101\n",
            "Time perceived by an observer on the Earth is  141.7834014178793\n"
          ]
        }
      ]
    },
    {
      "cell_type": "code",
      "source": [
        "#Quantum step potential\n",
        "m = 9.11*10**(-31)\n",
        "E = 10\n",
        "V = 9\n",
        "h_bar = (6.626*10**(-34))/(2*3.14)\n",
        "\n",
        "k1 = math.sqrt((2*m*E))/h_bar\n",
        "k2 = math.sqrt(2*m*(E-V))/h_bar\n",
        "\n",
        "T = (4*k1*k2)/(k1+k2)**2\n",
        "\n",
        "R = ((k1-k2)/(k1+k2))\n",
        "\n",
        "print(\"Transmission coefficient: \", T)\n",
        "print(\"Reflection coefficient: \", R)"
      ],
      "metadata": {
        "colab": {
          "base_uri": "https://localhost:8080/"
        },
        "id": "Hdp5z_uhA5oK",
        "outputId": "c350740c-12ed-4063-933c-035c3d51767c"
      },
      "execution_count": 71,
      "outputs": [
        {
          "output_type": "stream",
          "name": "stdout",
          "text": [
            "Transmission coefficient:  0.7301261363877615\n",
            "Reflection coefficient:  0.5194938532959157\n"
          ]
        }
      ]
    },
    {
      "cell_type": "code",
      "source": [
        "#Planetary orbits:\n",
        "#l1--> distance of closest approach perihelon\n",
        "#v1 --> Velocity at perihelon\n",
        "#l2 --> distance of farthest approach apihelon\n",
        "# v2 --> Velocity at apihelon\n",
        "\n",
        "#Roots : v2\n",
        "G = 6.6738* 10**(-11)\n",
        "M = 1.9891*10**(30) #kg\n",
        "v1 = 3.0287*10**(4) #m/s\n",
        "l1 = 1.4710*10**(11) #m\n",
        "\n",
        "a = 1\n",
        "b = -(2*G*M)/(v1*l1)\n",
        "c = -(v1**2-((2*G*M)/l1))\n",
        "\n",
        "v2_1 = (-b + math.sqrt(b**2-4*a*c))/(2*a)\n",
        "v2_2 = (-b - math.sqrt(b**2-4*a*c))/(2*a)\n",
        "\n",
        "print(\"v2 (first root): \", v2_1)\n",
        "print(\"v2 (second root): \", v2_2)"
      ],
      "metadata": {
        "colab": {
          "base_uri": "https://localhost:8080/"
        },
        "id": "TGCZ4EliCKdK",
        "outputId": "9d176376-ea23-4527-a970-46190d5b9c04"
      },
      "execution_count": 86,
      "outputs": [
        {
          "output_type": "stream",
          "name": "stdout",
          "text": [
            "v2 (first root):  30287.000000000153\n",
            "v2 (second root):  29305.399177261148\n"
          ]
        }
      ]
    },
    {
      "cell_type": "code",
      "source": [
        "#To find all the other parameters of the orbit\n",
        "#Semi major axis:\n",
        "l2 = (l1*v1)/v2_2\n",
        "\n",
        "a = 1/2*(l1+l2)\n",
        "b = math.sqrt(l1*l2)\n",
        "T = (2*math.pi*a*b)/(l1*v1)\n",
        "e = ((l2-l1)/(l2+l1))\n",
        "\n",
        "T_years = T/(365*24*60*60)\n",
        "\n",
        "print(\"Semi major axis: \", a)\n",
        "print(\"Semi minor axis: \", b)\n",
        "print(\"Orbital period: \", T)\n",
        "print(\"Orbital eccentricity: \", e)\n",
        "print(\"T in years\", T_years)"
      ],
      "metadata": {
        "colab": {
          "base_uri": "https://localhost:8080/"
        },
        "id": "LuqEX1aWJZYP",
        "outputId": "d4aa0688-4ff0-45ed-ab58-a2b07f33177c"
      },
      "execution_count": 88,
      "outputs": [
        {
          "output_type": "stream",
          "name": "stdout",
          "text": [
            "Semi major axis:  149563598604.3303\n",
            "Semi minor axis:  149543307136.74207\n",
            "Orbital period:  31543060.20788706\n",
            "Orbital eccentricity:  0.016471913134744297\n",
            "T in years 1.0002238777234609\n"
          ]
        }
      ]
    },
    {
      "cell_type": "code",
      "source": [
        "#For halley's commet\n",
        "l1 = 8.7830*10**10 #m\n",
        "v1 = 5.4529*10**(4) #m/s\n",
        "\n",
        "#To calculate all the properties again\n",
        "G = 6.6738* 10**(-11)\n",
        "M = 1.9891*10**(30) #kg\n",
        "\n",
        "a = 1\n",
        "b = -(2*G*M)/(v1*l1)\n",
        "c = -(v1**2-((2*G*M)/l1))\n",
        "\n",
        "v2_1 = (-b + math.sqrt(b**2-4*a*c))/(2*a)\n",
        "v2_2 = (-b - math.sqrt(b**2-4*a*c))/(2*a)\n",
        "\n",
        "print(\"v2 (first root): \", v2_1)\n",
        "print(\"v2 (second root): \", v2_2)\n",
        "\n",
        "l2 = (l1*v1)/v2_2\n",
        "\n",
        "a = 1/2*(l1+l2)\n",
        "b = math.sqrt(l1*l2)\n",
        "T = (2*math.pi*a*b)/(l1*v1)\n",
        "e = ((l2-l1)/(l2+l1))\n",
        "T_years = T/(365*24*60*60)\n",
        "\n",
        "print(\"Semi major axis: \", a)\n",
        "print(\"Semi minor axis: \", b)\n",
        "print(\"Orbital period: \", T)\n",
        "print(\"Orbital eccentricity: \", e)\n",
        "print(\"T in years\", T_years)"
      ],
      "metadata": {
        "colab": {
          "base_uri": "https://localhost:8080/"
        },
        "id": "jwjuc79IKPvK",
        "outputId": "371940db-207a-4970-b4e0-b38e85f7026f"
      },
      "execution_count": 90,
      "outputs": [
        {
          "output_type": "stream",
          "name": "stdout",
          "text": [
            "v2 (first root):  54529.0\n",
            "v2 (second root):  906.6806969191493\n",
            "Semi major axis:  2685022330438.2207\n",
            "Semi minor axis:  681129146098.431\n",
            "Orbital period:  2399312511.8451877\n",
            "Orbital eccentricity:  0.9672889126454061\n",
            "T in years 76.08170065465461\n"
          ]
        }
      ]
    },
    {
      "cell_type": "code",
      "source": [
        "#Therefore we can see that the orbital period of halley's comet is 76 years"
      ],
      "metadata": {
        "id": "wqA4uCXXKyFq"
      },
      "execution_count": null,
      "outputs": []
    },
    {
      "cell_type": "code",
      "source": [
        "#Controling programs with if else loops\n"
      ],
      "metadata": {
        "id": "fDd26LGNLn8p"
      },
      "execution_count": null,
      "outputs": []
    }
  ]
}